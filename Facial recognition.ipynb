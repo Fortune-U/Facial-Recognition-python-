{
 "cells": [
  {
   "cell_type": "code",
   "execution_count": 3,
   "id": "01cf716f",
   "metadata": {
    "scrolled": true
   },
   "outputs": [
    {
     "name": "stdout",
     "output_type": "stream",
     "text": [
      "Collecting tensorflow==2.8.1\n",
      "  Downloading tensorflow-2.8.1-cp310-cp310-win_amd64.whl (438.3 MB)\n",
      "     -------------------------------------- 438.3/438.3 MB 2.1 MB/s eta 0:00:00\n",
      "Collecting tensorflow-gpu==2.8.1\n",
      "  Downloading tensorflow_gpu-2.8.1-cp310-cp310-win_amd64.whl (438.3 MB)\n",
      "     -------------------------------------- 438.3/438.3 MB 1.8 MB/s eta 0:00:00\n",
      "Collecting opencv-python\n",
      "  Using cached opencv_python-4.6.0.66-cp36-abi3-win_amd64.whl (35.6 MB)\n",
      "Requirement already satisfied: matplotlib in c:\\users\\hp\\appdata\\local\\programs\\python\\python310\\lib\\site-packages (3.6.1)\n",
      "Requirement already satisfied: google-pasta>=0.1.1 in c:\\users\\hp\\appdata\\local\\programs\\python\\python310\\lib\\site-packages (from tensorflow==2.8.1) (0.2.0)\n",
      "Requirement already satisfied: absl-py>=0.4.0 in c:\\users\\hp\\appdata\\local\\programs\\python\\python310\\lib\\site-packages (from tensorflow==2.8.1) (1.3.0)\n",
      "Requirement already satisfied: opt-einsum>=2.3.2 in c:\\users\\hp\\appdata\\local\\programs\\python\\python310\\lib\\site-packages (from tensorflow==2.8.1) (3.3.0)\n",
      "Requirement already satisfied: numpy>=1.20 in c:\\users\\hp\\appdata\\local\\programs\\python\\python310\\lib\\site-packages (from tensorflow==2.8.1) (1.23.4)\n",
      "Requirement already satisfied: flatbuffers>=1.12 in c:\\users\\hp\\appdata\\local\\programs\\python\\python310\\lib\\site-packages (from tensorflow==2.8.1) (22.12.6)\n",
      "Requirement already satisfied: setuptools in c:\\users\\hp\\appdata\\local\\programs\\python\\python310\\lib\\site-packages (from tensorflow==2.8.1) (63.2.0)\n",
      "Requirement already satisfied: astunparse>=1.6.0 in c:\\users\\hp\\appdata\\local\\programs\\python\\python310\\lib\\site-packages (from tensorflow==2.8.1) (1.6.3)\n",
      "Collecting tensorboard<2.9,>=2.8\n",
      "  Downloading tensorboard-2.8.0-py3-none-any.whl (5.8 MB)\n",
      "     ---------------------------------------- 5.8/5.8 MB 5.1 MB/s eta 0:00:00\n",
      "Requirement already satisfied: libclang>=9.0.1 in c:\\users\\hp\\appdata\\local\\programs\\python\\python310\\lib\\site-packages (from tensorflow==2.8.1) (14.0.6)\n",
      "Collecting tensorflow-estimator<2.9,>=2.8\n",
      "  Downloading tensorflow_estimator-2.8.0-py2.py3-none-any.whl (462 kB)\n",
      "     -------------------------------------- 462.3/462.3 kB 7.3 MB/s eta 0:00:00\n",
      "Requirement already satisfied: wrapt>=1.11.0 in c:\\users\\hp\\appdata\\local\\programs\\python\\python310\\lib\\site-packages (from tensorflow==2.8.1) (1.14.1)\n",
      "Requirement already satisfied: six>=1.12.0 in c:\\users\\hp\\appdata\\local\\programs\\python\\python310\\lib\\site-packages (from tensorflow==2.8.1) (1.16.0)\n",
      "Requirement already satisfied: termcolor>=1.1.0 in c:\\users\\hp\\appdata\\local\\programs\\python\\python310\\lib\\site-packages (from tensorflow==2.8.1) (2.1.1)\n",
      "Requirement already satisfied: keras-preprocessing>=1.1.1 in c:\\users\\hp\\appdata\\local\\programs\\python\\python310\\lib\\site-packages (from tensorflow==2.8.1) (1.1.2)\n",
      "Requirement already satisfied: gast>=0.2.1 in c:\\users\\hp\\appdata\\local\\programs\\python\\python310\\lib\\site-packages (from tensorflow==2.8.1) (0.4.0)\n",
      "Requirement already satisfied: grpcio<2.0,>=1.24.3 in c:\\users\\hp\\appdata\\local\\programs\\python\\python310\\lib\\site-packages (from tensorflow==2.8.1) (1.51.1)\n",
      "Requirement already satisfied: protobuf>=3.9.2 in c:\\users\\hp\\appdata\\local\\programs\\python\\python310\\lib\\site-packages (from tensorflow==2.8.1) (3.19.6)\n",
      "Collecting keras<2.9,>=2.8.0rc0\n",
      "  Downloading keras-2.8.0-py2.py3-none-any.whl (1.4 MB)\n",
      "     ---------------------------------------- 1.4/1.4 MB 5.1 MB/s eta 0:00:00\n",
      "Requirement already satisfied: h5py>=2.9.0 in c:\\users\\hp\\appdata\\local\\programs\\python\\python310\\lib\\site-packages (from tensorflow==2.8.1) (3.7.0)\n",
      "Requirement already satisfied: tensorflow-io-gcs-filesystem>=0.23.1 in c:\\users\\hp\\appdata\\local\\programs\\python\\python310\\lib\\site-packages (from tensorflow==2.8.1) (0.29.0)\n",
      "Requirement already satisfied: typing-extensions>=3.6.6 in c:\\users\\hp\\appdata\\local\\programs\\python\\python310\\lib\\site-packages (from tensorflow==2.8.1) (4.4.0)\n",
      "Requirement already satisfied: cycler>=0.10 in c:\\users\\hp\\appdata\\local\\programs\\python\\python310\\lib\\site-packages (from matplotlib) (0.11.0)\n",
      "Requirement already satisfied: fonttools>=4.22.0 in c:\\users\\hp\\appdata\\local\\programs\\python\\python310\\lib\\site-packages (from matplotlib) (4.37.4)\n",
      "Requirement already satisfied: contourpy>=1.0.1 in c:\\users\\hp\\appdata\\local\\programs\\python\\python310\\lib\\site-packages (from matplotlib) (1.0.5)\n",
      "Requirement already satisfied: pyparsing>=2.2.1 in c:\\users\\hp\\appdata\\local\\programs\\python\\python310\\lib\\site-packages (from matplotlib) (3.0.9)\n",
      "Requirement already satisfied: kiwisolver>=1.0.1 in c:\\users\\hp\\appdata\\local\\programs\\python\\python310\\lib\\site-packages (from matplotlib) (1.4.4)\n",
      "Requirement already satisfied: pillow>=6.2.0 in c:\\users\\hp\\appdata\\local\\programs\\python\\python310\\lib\\site-packages (from matplotlib) (9.2.0)\n",
      "Requirement already satisfied: python-dateutil>=2.7 in c:\\users\\hp\\appdata\\local\\programs\\python\\python310\\lib\\site-packages (from matplotlib) (2.8.2)\n",
      "Requirement already satisfied: packaging>=20.0 in c:\\users\\hp\\appdata\\local\\programs\\python\\python310\\lib\\site-packages (from matplotlib) (21.3)\n",
      "Requirement already satisfied: wheel<1.0,>=0.23.0 in c:\\users\\hp\\appdata\\local\\programs\\python\\python310\\lib\\site-packages (from astunparse>=1.6.0->tensorflow==2.8.1) (0.38.4)\n",
      "Requirement already satisfied: google-auth-oauthlib<0.5,>=0.4.1 in c:\\users\\hp\\appdata\\local\\programs\\python\\python310\\lib\\site-packages (from tensorboard<2.9,>=2.8->tensorflow==2.8.1) (0.4.6)\n",
      "Requirement already satisfied: tensorboard-data-server<0.7.0,>=0.6.0 in c:\\users\\hp\\appdata\\local\\programs\\python\\python310\\lib\\site-packages (from tensorboard<2.9,>=2.8->tensorflow==2.8.1) (0.6.1)\n",
      "Requirement already satisfied: requests<3,>=2.21.0 in c:\\users\\hp\\appdata\\local\\programs\\python\\python310\\lib\\site-packages (from tensorboard<2.9,>=2.8->tensorflow==2.8.1) (2.28.1)\n",
      "Requirement already satisfied: google-auth<3,>=1.6.3 in c:\\users\\hp\\appdata\\local\\programs\\python\\python310\\lib\\site-packages (from tensorboard<2.9,>=2.8->tensorflow==2.8.1) (2.15.0)\n",
      "Requirement already satisfied: werkzeug>=0.11.15 in c:\\users\\hp\\appdata\\local\\programs\\python\\python310\\lib\\site-packages (from tensorboard<2.9,>=2.8->tensorflow==2.8.1) (2.2.2)\n",
      "Requirement already satisfied: tensorboard-plugin-wit>=1.6.0 in c:\\users\\hp\\appdata\\local\\programs\\python\\python310\\lib\\site-packages (from tensorboard<2.9,>=2.8->tensorflow==2.8.1) (1.8.1)\n",
      "Requirement already satisfied: markdown>=2.6.8 in c:\\users\\hp\\appdata\\local\\programs\\python\\python310\\lib\\site-packages (from tensorboard<2.9,>=2.8->tensorflow==2.8.1) (3.4.1)\n",
      "Requirement already satisfied: pyasn1-modules>=0.2.1 in c:\\users\\hp\\appdata\\local\\programs\\python\\python310\\lib\\site-packages (from google-auth<3,>=1.6.3->tensorboard<2.9,>=2.8->tensorflow==2.8.1) (0.2.8)\n",
      "Requirement already satisfied: rsa<5,>=3.1.4 in c:\\users\\hp\\appdata\\local\\programs\\python\\python310\\lib\\site-packages (from google-auth<3,>=1.6.3->tensorboard<2.9,>=2.8->tensorflow==2.8.1) (4.9)\n",
      "Requirement already satisfied: cachetools<6.0,>=2.0.0 in c:\\users\\hp\\appdata\\local\\programs\\python\\python310\\lib\\site-packages (from google-auth<3,>=1.6.3->tensorboard<2.9,>=2.8->tensorflow==2.8.1) (5.2.0)\n",
      "Requirement already satisfied: requests-oauthlib>=0.7.0 in c:\\users\\hp\\appdata\\local\\programs\\python\\python310\\lib\\site-packages (from google-auth-oauthlib<0.5,>=0.4.1->tensorboard<2.9,>=2.8->tensorflow==2.8.1) (1.3.1)\n",
      "Requirement already satisfied: charset-normalizer<3,>=2 in c:\\users\\hp\\appdata\\local\\programs\\python\\python310\\lib\\site-packages (from requests<3,>=2.21.0->tensorboard<2.9,>=2.8->tensorflow==2.8.1) (2.1.1)\n",
      "Requirement already satisfied: idna<4,>=2.5 in c:\\users\\hp\\appdata\\local\\programs\\python\\python310\\lib\\site-packages (from requests<3,>=2.21.0->tensorboard<2.9,>=2.8->tensorflow==2.8.1) (3.4)\n",
      "Requirement already satisfied: urllib3<1.27,>=1.21.1 in c:\\users\\hp\\appdata\\local\\programs\\python\\python310\\lib\\site-packages (from requests<3,>=2.21.0->tensorboard<2.9,>=2.8->tensorflow==2.8.1) (1.26.12)\n",
      "Requirement already satisfied: certifi>=2017.4.17 in c:\\users\\hp\\appdata\\local\\programs\\python\\python310\\lib\\site-packages (from requests<3,>=2.21.0->tensorboard<2.9,>=2.8->tensorflow==2.8.1) (2022.9.24)\n",
      "Requirement already satisfied: MarkupSafe>=2.1.1 in c:\\users\\hp\\appdata\\local\\programs\\python\\python310\\lib\\site-packages (from werkzeug>=0.11.15->tensorboard<2.9,>=2.8->tensorflow==2.8.1) (2.1.1)\n",
      "Requirement already satisfied: pyasn1<0.5.0,>=0.4.6 in c:\\users\\hp\\appdata\\local\\programs\\python\\python310\\lib\\site-packages (from pyasn1-modules>=0.2.1->google-auth<3,>=1.6.3->tensorboard<2.9,>=2.8->tensorflow==2.8.1) (0.4.8)\n",
      "Requirement already satisfied: oauthlib>=3.0.0 in c:\\users\\hp\\appdata\\local\\programs\\python\\python310\\lib\\site-packages (from requests-oauthlib>=0.7.0->google-auth-oauthlib<0.5,>=0.4.1->tensorboard<2.9,>=2.8->tensorflow==2.8.1) (3.2.2)\n",
      "Installing collected packages: tensorflow-estimator, keras, opencv-python, tensorboard, tensorflow-gpu, tensorflow\n",
      "  Attempting uninstall: tensorflow-estimator\n",
      "    Found existing installation: tensorflow-estimator 2.10.0\n",
      "    Uninstalling tensorflow-estimator-2.10.0:\n",
      "      Successfully uninstalled tensorflow-estimator-2.10.0\n",
      "  Attempting uninstall: keras\n",
      "    Found existing installation: keras 2.10.0\n",
      "    Uninstalling keras-2.10.0:\n",
      "      Successfully uninstalled keras-2.10.0\n",
      "  Attempting uninstall: tensorboard\n",
      "    Found existing installation: tensorboard 2.10.1\n",
      "    Uninstalling tensorboard-2.10.1:\n",
      "      Successfully uninstalled tensorboard-2.10.1\n",
      "  Attempting uninstall: tensorflow\n",
      "    Found existing installation: tensorflow 2.10.1\n",
      "    Uninstalling tensorflow-2.10.1:\n",
      "      Successfully uninstalled tensorflow-2.10.1\n",
      "Successfully installed keras-2.8.0 opencv-python-4.6.0.66 tensorboard-2.8.0 tensorflow-2.8.1 tensorflow-estimator-2.8.0 tensorflow-gpu-2.8.1\n"
     ]
    },
    {
     "name": "stderr",
     "output_type": "stream",
     "text": [
      "ERROR: pip's dependency resolver does not currently take into account all the packages that are installed. This behaviour is the source of the following dependency conflicts.\n",
      "tensorflow-intel 2.11.0 requires keras<2.12,>=2.11.0, but you have keras 2.8.0 which is incompatible.\n",
      "tensorflow-intel 2.11.0 requires tensorboard<2.12,>=2.11, but you have tensorboard 2.8.0 which is incompatible.\n",
      "tensorflow-intel 2.11.0 requires tensorflow-estimator<2.12,>=2.11.0, but you have tensorflow-estimator 2.8.0 which is incompatible.\n"
     ]
    }
   ],
   "source": [
    "!pip install tensorflow==2.8.1 tensorflow-gpu==2.8.1 opencv-python matplotlib "
   ]
  },
  {
   "cell_type": "code",
   "execution_count": 207,
   "id": "abdd2a98",
   "metadata": {},
   "outputs": [],
   "source": [
    "# Import standard dependencies\n",
    "import cv2\n",
    "import os\n",
    "import random\n",
    "import numpy as np\n",
    "from matplotlib import pyplot as plt"
   ]
  },
  {
   "cell_type": "code",
   "execution_count": 208,
   "id": "be82b6e0",
   "metadata": {},
   "outputs": [],
   "source": [
    "# Import tensorflow dependencies\n",
    "from tensorflow.keras.models import Model\n",
    "from tensorflow.keras.layers import Layer, Conv2D, Dense, MaxPooling2D, Input, Flatten\n",
    "import tensorflow as tf"
   ]
  },
  {
   "cell_type": "code",
   "execution_count": 132,
   "id": "8a3bdc18",
   "metadata": {},
   "outputs": [],
   "source": [
    "# Setup paths\n",
    "POS_PATH = os.path.join('data', 'positive')\n",
    "NEG_PATH = os.path.join('data', 'negative')\n",
    "ANC_PATH = os.path.join('data', 'anchor')"
   ]
  },
  {
   "cell_type": "code",
   "execution_count": 10,
   "id": "e1bfef31",
   "metadata": {},
   "outputs": [],
   "source": [
    "# Make the directories\n",
    "os.makedirs(POS_PATH)\n",
    "os.makedirs(NEG_PATH)\n",
    "os.makedirs(ANC_PATH)"
   ]
  },
  {
   "cell_type": "code",
   "execution_count": 3,
   "id": "6d67363c",
   "metadata": {},
   "outputs": [
    {
     "data": {
      "text/plain": [
       "'C:\\\\Users\\\\HP\\\\FaceID'"
      ]
     },
     "execution_count": 3,
     "metadata": {},
     "output_type": "execute_result"
    }
   ],
   "source": [
    "pwd"
   ]
  },
  {
   "cell_type": "code",
   "execution_count": 4,
   "id": "42c81f39",
   "metadata": {},
   "outputs": [],
   "source": [
    "#uncompress Tar GZ Labelled faces in the Wild Dataset\n",
    "!tar -xf lfw.tgz"
   ]
  },
  {
   "cell_type": "code",
   "execution_count": 8,
   "id": "ac3772ba",
   "metadata": {},
   "outputs": [],
   "source": [
    "#Move lfw Images to the following repository data/negative\n",
    "for directory in os.listdir('lfw'):\n",
    "    for file in os.listdir(os.path.join('lfw', directory)):\n",
    "        EX_PATH = os.path.join('lfw', directory, file)\n",
    "        NEW_PATH = os.path.join(NEG_PATH, file)\n",
    "        os.replace(EX_PATH, NEW_PATH)"
   ]
  },
  {
   "cell_type": "code",
   "execution_count": 133,
   "id": "0136a5e4",
   "metadata": {},
   "outputs": [],
   "source": [
    "#Import uuid libarary to generate unique image names \n",
    "import uuid"
   ]
  },
  {
   "cell_type": "code",
   "execution_count": 134,
   "id": "31f88efb",
   "metadata": {},
   "outputs": [
    {
     "data": {
      "text/plain": [
       "'data\\\\anchor\\\\3a2f51c1-89e6-11ed-b559-9078416df5c8.jpg'"
      ]
     },
     "execution_count": 134,
     "metadata": {},
     "output_type": "execute_result"
    }
   ],
   "source": [
    "os.path.join(ANC_PATH, '{}.jpg'.format(uuid.uuid1()))"
   ]
  },
  {
   "cell_type": "code",
   "execution_count": 118,
   "id": "ce4ef16a",
   "metadata": {},
   "outputs": [],
   "source": [
    "# Establish a connection to the webcam\n",
    "cap = cv2.VideoCapture(0)\n",
    "while cap.isOpened():\n",
    "    ret, frame = cap.read()\n",
    "    \n",
    "    #Cut down frame to 250z250\n",
    "    frame = frame[120:120+250,200:200+250, :]\n",
    "    \n",
    "    #Collect anchors \n",
    "    if cv2.waitKey(1) & 0XFF == ord('a'):\n",
    "        # Create the unique file path\n",
    "        imgname = os.path.join(ANC_PATH, '{}.jpg'.format(uuid.uuid1()))\n",
    "        # write out anchor image\n",
    "        cv2.imwrite(imgname, frame)\n",
    "        \n",
    "    #Collect positives\n",
    "    if cv2.waitKey(1) & 0XFF == ord('p'):\n",
    "           # Create the unique file path\n",
    "        imgname = os.path.join(POS_PATH, '{}.jpg'.format(uuid.uuid1()))\n",
    "        # write out anchor image\n",
    "        cv2.imwrite(imgname, frame)\n",
    "    \n",
    "    # Show image back to screen\n",
    "    cv2.imshow('Image Collection', frame)\n",
    "    \n",
    "    # Breaking gracefully\n",
    "    if cv2.waitKey(1) & 0XFF == ord('q'):\n",
    "        break\n",
    "        \n",
    "# Realease the webcam        \n",
    "cap.release()\n",
    "# Close the image frame\n",
    "cv2.destroyAllWindows()"
   ]
  },
  {
   "cell_type": "code",
   "execution_count": 135,
   "id": "1c3161f5",
   "metadata": {},
   "outputs": [],
   "source": [
    "anchor = tf.data.Dataset.list_files(ANC_PATH+'\\*.jpg').take(300)\n",
    "positive = tf.data.Dataset.list_files(POS_PATH+'\\*.jpg').take(300)\n",
    "negative = tf.data.Dataset.list_files(NEG_PATH+'\\*.jpg').take(300)"
   ]
  },
  {
   "cell_type": "code",
   "execution_count": 136,
   "id": "7a5c8ea2",
   "metadata": {},
   "outputs": [],
   "source": [
    "dir_test = anchor.as_numpy_iterator()"
   ]
  },
  {
   "cell_type": "code",
   "execution_count": 137,
   "id": "b866e51a",
   "metadata": {},
   "outputs": [
    {
     "data": {
      "text/plain": [
       "b'data\\\\anchor\\\\e74bf9ac-89e4-11ed-9ab4-9078416df5c8.jpg'"
      ]
     },
     "execution_count": 137,
     "metadata": {},
     "output_type": "execute_result"
    }
   ],
   "source": [
    "dir_test.next()"
   ]
  },
  {
   "cell_type": "code",
   "execution_count": 209,
   "id": "7069059f",
   "metadata": {},
   "outputs": [],
   "source": [
    "def preprocess(file_path):\n",
    "    \n",
    "    # Read in image from file path\n",
    "    byte_img = tf.io.read_file(file_path)\n",
    "    \n",
    "    # Load in the image \n",
    "    img = tf.io.decode_jpeg(byte_img)\n",
    "    \n",
    "    # Preprocessing steps - resizing the image to be 100x100x3\n",
    "    img = tf.image.resize(img, (100,100))\n",
    "    \n",
    "    # Scale image between 0 and 1\n",
    "    img = img / 255.0\n",
    "    \n",
    "    return img"
   ]
  },
  {
   "cell_type": "code",
   "execution_count": 210,
   "id": "4f369cfa",
   "metadata": {},
   "outputs": [],
   "source": [
    "img = preprocess(b'data\\\\anchor\\\\e74bf9ac-89e4-11ed-9ab4-9078416df5c8.jpg')"
   ]
  },
  {
   "cell_type": "code",
   "execution_count": 211,
   "id": "a8e09da3",
   "metadata": {},
   "outputs": [
    {
     "data": {
      "text/plain": [
       "1.0"
      ]
     },
     "execution_count": 211,
     "metadata": {},
     "output_type": "execute_result"
    }
   ],
   "source": [
    "img.numpy().max() "
   ]
  },
  {
   "cell_type": "code",
   "execution_count": 150,
   "id": "68a4143f",
   "metadata": {},
   "outputs": [
    {
     "data": {
      "text/plain": [
       "<matplotlib.image.AxesImage at 0x1f93c2d3370>"
      ]
     },
     "execution_count": 150,
     "metadata": {},
     "output_type": "execute_result"
    },
    {
     "data": {
      "image/png": "[encoded data removed]",
      "text/plain": [
       "<Figure size 640x480 with 1 Axes>"
      ]
     },
     "metadata": {},
     "output_type": "display_data"
    }
   ],
   "source": [
    "plt.imshow(img)"
   ]
  },
  {
   "cell_type": "code",
   "execution_count": 212,
   "id": "1c1060ce",
   "metadata": {},
   "outputs": [],
   "source": [
    "positives = tf.data.Dataset.zip((anchor, positive, tf.data.Dataset.from_tensor_slices(tf.ones(len(anchor)))))\n",
    "negatives = tf.data.Dataset.zip((anchor, negative, tf.data.Dataset.from_tensor_slices(tf.zeros(len(anchor)))))\n",
    "data = positives.concatenate(negatives)"
   ]
  },
  {
   "cell_type": "code",
   "execution_count": 213,
   "id": "a5ce612b",
   "metadata": {},
   "outputs": [],
   "source": [
    "samples = data.as_numpy_iterator()"
   ]
  },
  {
   "cell_type": "code",
   "execution_count": 214,
   "id": "acbf63ec",
   "metadata": {},
   "outputs": [],
   "source": [
    "example = samples.next()"
   ]
  },
  {
   "cell_type": "code",
   "execution_count": 215,
   "id": "da001b3f",
   "metadata": {},
   "outputs": [
    {
     "data": {
      "text/plain": [
       "(b'data\\\\anchor\\\\fadc3c0e-89e4-11ed-8c30-9078416df5c8.jpg',\n",
       " b'data\\\\positive\\\\1757c3d1-89e5-11ed-9d11-9078416df5c8.jpg',\n",
       " 1.0)"
      ]
     },
     "execution_count": 215,
     "metadata": {},
     "output_type": "execute_result"
    }
   ],
   "source": [
    "example"
   ]
  },
  {
   "cell_type": "code",
   "execution_count": 216,
   "id": "92b7cfc3",
   "metadata": {},
   "outputs": [],
   "source": [
    "def preprocess_twin(input_img, validation_img, label):\n",
    "    return(preprocess(input_img), preprocess(validation_img), label)"
   ]
  },
  {
   "cell_type": "code",
   "execution_count": 217,
   "id": "d7acf391",
   "metadata": {},
   "outputs": [],
   "source": [
    "res = preprocess_twin(*example)"
   ]
  },
  {
   "cell_type": "code",
   "execution_count": 218,
   "id": "08d4cebe",
   "metadata": {},
   "outputs": [
    {
     "data": {
      "text/plain": [
       "<matplotlib.image.AxesImage at 0x218b95ee6b0>"
      ]
     },
     "execution_count": 218,
     "metadata": {},
     "output_type": "execute_result"
    },
    {
     "data": {
      "image/png": "[encoded data removed]",
      "text/plain": [
       "<Figure size 640x480 with 1 Axes>"
      ]
     },
     "metadata": {},
     "output_type": "display_data"
    }
   ],
   "source": [
    "plt.imshow(res[1])"
   ]
  },
  {
   "cell_type": "code",
   "execution_count": 158,
   "id": "94645dcb",
   "metadata": {},
   "outputs": [
    {
     "data": {
      "text/plain": [
       "1.0"
      ]
     },
     "execution_count": 158,
     "metadata": {},
     "output_type": "execute_result"
    }
   ],
   "source": [
    "res[2]"
   ]
  },
  {
   "cell_type": "code",
   "execution_count": 159,
   "id": "8528d4e7",
   "metadata": {},
   "outputs": [],
   "source": [
    "# Build dataloader pipeline\n",
    "data = data.map(preprocess_twin)\n",
    "data = data.cache()\n",
    "data = data.shuffle(buffer_size=1024)"
   ]
  },
  {
   "cell_type": "code",
   "execution_count": 160,
   "id": "8ec8b67e",
   "metadata": {},
   "outputs": [],
   "source": [
    "# Training partition\n",
    "train_data = data.take(round(len(data)*.7))\n",
    "train_data = train_data.batch(16)\n",
    "train_data = train_data.prefetch(8)"
   ]
  },
  {
   "cell_type": "code",
   "execution_count": 161,
   "id": "9d58e463",
   "metadata": {},
   "outputs": [],
   "source": [
    "train_samples = train_data.as_numpy_iterator()"
   ]
  },
  {
   "cell_type": "code",
   "execution_count": 162,
   "id": "05fb564c",
   "metadata": {},
   "outputs": [],
   "source": [
    "train_sample = train_samples.next()"
   ]
  },
  {
   "cell_type": "raw",
   "id": "4581a738",
   "metadata": {},
   "source": [
    "len(train_sample[0])"
   ]
  },
  {
   "cell_type": "code",
   "execution_count": 163,
   "id": "6f5ad457",
   "metadata": {},
   "outputs": [
    {
     "data": {
      "text/plain": [
       "16"
      ]
     },
     "execution_count": 163,
     "metadata": {},
     "output_type": "execute_result"
    }
   ],
   "source": [
    "len(train_sample[0])"
   ]
  },
  {
   "cell_type": "code",
   "execution_count": 164,
   "id": "40e91f3f",
   "metadata": {},
   "outputs": [],
   "source": [
    "# Testing partition\n",
    "test_data = data.skip(round(len(data)*.7))\n",
    "test_data = test_data.take(round(len(data)*.3))\n",
    "test_data = test_data.batch(16)\n",
    "test_data = test_data.prefetch(8)"
   ]
  },
  {
   "cell_type": "code",
   "execution_count": 165,
   "id": "10f6975d",
   "metadata": {},
   "outputs": [],
   "source": [
    "inp = Input(shape=(100,100,3), name='input_image')"
   ]
  },
  {
   "cell_type": "code",
   "execution_count": 166,
   "id": "42b47bae",
   "metadata": {},
   "outputs": [],
   "source": [
    "c1 = Conv2D(64, (10,10), activation='relu')(inp)"
   ]
  },
  {
   "cell_type": "code",
   "execution_count": 167,
   "id": "1ef45d6b",
   "metadata": {},
   "outputs": [],
   "source": [
    "m1 = MaxPooling2D(64, (2,2), padding='same')(c1)"
   ]
  },
  {
   "cell_type": "code",
   "execution_count": 168,
   "id": "22732ba4",
   "metadata": {},
   "outputs": [],
   "source": [
    "c2 = Conv2D(128, (7,7), activation='relu')(m1)\n",
    "m2 = MaxPooling2D(64, (2,2), padding='same')(c2)"
   ]
  },
  {
   "cell_type": "code",
   "execution_count": 169,
   "id": "f9067b75",
   "metadata": {},
   "outputs": [],
   "source": [
    "c3 = Conv2D(128, (4,4), activation='relu')(m2)\n",
    "m3 = MaxPooling2D(64, (2,2), padding='same')(c3)"
   ]
  },
  {
   "cell_type": "code",
   "execution_count": 170,
   "id": "e79524a3",
   "metadata": {},
   "outputs": [],
   "source": [
    "c4 = Conv2D(256, (4,4), activation='relu')(m3)\n",
    "f1 = Flatten()(c4)\n",
    "d1 = Dense(4096, activation='sigmoid')(f1)\n"
   ]
  },
  {
   "cell_type": "code",
   "execution_count": 171,
   "id": "517f6b00",
   "metadata": {},
   "outputs": [
    {
     "data": {
      "text/plain": [
       "<KerasTensor: shape=(None, 9216) dtype=float32 (created by layer 'flatten_2')>"
      ]
     },
     "execution_count": 171,
     "metadata": {},
     "output_type": "execute_result"
    }
   ],
   "source": [
    "f1"
   ]
  },
  {
   "cell_type": "code",
   "execution_count": 172,
   "id": "7ec68eeb",
   "metadata": {},
   "outputs": [],
   "source": [
    "mod = Model(inputs=[inp], outputs=[d1], name='embedding')"
   ]
  },
  {
   "cell_type": "code",
   "execution_count": 173,
   "id": "e1ce5fde",
   "metadata": {},
   "outputs": [
    {
     "name": "stdout",
     "output_type": "stream",
     "text": [
      "Model: \"embedding\"\n",
      "_________________________________________________________________\n",
      " Layer (type)                Output Shape              Param #   \n",
      "=================================================================\n",
      " input_image (InputLayer)    [(None, 100, 100, 3)]     0         \n",
      "                                                                 \n",
      " conv2d_8 (Conv2D)           (None, 91, 91, 64)        19264     \n",
      "                                                                 \n",
      " max_pooling2d_6 (MaxPooling  (None, 46, 46, 64)       0         \n",
      " 2D)                                                             \n",
      "                                                                 \n",
      " conv2d_9 (Conv2D)           (None, 40, 40, 128)       401536    \n",
      "                                                                 \n",
      " max_pooling2d_7 (MaxPooling  (None, 20, 20, 128)      0         \n",
      " 2D)                                                             \n",
      "                                                                 \n",
      " conv2d_10 (Conv2D)          (None, 17, 17, 128)       262272    \n",
      "                                                                 \n",
      " max_pooling2d_8 (MaxPooling  (None, 9, 9, 128)        0         \n",
      " 2D)                                                             \n",
      "                                                                 \n",
      " conv2d_11 (Conv2D)          (None, 6, 6, 256)         524544    \n",
      "                                                                 \n",
      " flatten_2 (Flatten)         (None, 9216)              0         \n",
      "                                                                 \n",
      " dense_4 (Dense)             (None, 4096)              37752832  \n",
      "                                                                 \n",
      "=================================================================\n",
      "Total params: 38,960,448\n",
      "Trainable params: 38,960,448\n",
      "Non-trainable params: 0\n",
      "_________________________________________________________________\n"
     ]
    }
   ],
   "source": [
    "mod.summary()"
   ]
  },
  {
   "cell_type": "code",
   "execution_count": 174,
   "id": "dae65da2",
   "metadata": {},
   "outputs": [],
   "source": [
    "def make_embedding():\n",
    "    inp = Input(shape=(100,100,3), name='input_image')\n",
    "    \n",
    "    # First block\n",
    "    c1 = Conv2D(64, (10,10), activation='relu')(inp)\n",
    "    m1 = MaxPooling2D(64, (2,2), padding='same')(c1)\n",
    "    \n",
    "    # Second block\n",
    "    c2 = Conv2D(128, (7,7), activation='relu')(m1)\n",
    "    m2 = MaxPooling2D(64, (2,2), padding='same')(c2)\n",
    "    \n",
    "    # Third block \n",
    "    c3 = Conv2D(128, (4,4), activation='relu')(m2)\n",
    "    m3 = MaxPooling2D(64, (2,2), padding='same')(c3)\n",
    "    \n",
    "    # Final embedding block\n",
    "    c4 = Conv2D(256, (4,4), activation='relu')(m3)\n",
    "    f1 = Flatten()(c4)\n",
    "    d1 = Dense(4096, activation='sigmoid')(f1)\n",
    "\n",
    "    \n",
    "    return Model(inputs=[inp], outputs=[d1], name='embedding')"
   ]
  },
  {
   "cell_type": "code",
   "execution_count": 175,
   "id": "404880ec",
   "metadata": {},
   "outputs": [],
   "source": [
    "embedding = make_embedding()"
   ]
  },
  {
   "cell_type": "code",
   "execution_count": 176,
   "id": "3748ff3b",
   "metadata": {},
   "outputs": [
    {
     "name": "stdout",
     "output_type": "stream",
     "text": [
      "Model: \"embedding\"\n",
      "_________________________________________________________________\n",
      " Layer (type)                Output Shape              Param #   \n",
      "=================================================================\n",
      " input_image (InputLayer)    [(None, 100, 100, 3)]     0         \n",
      "                                                                 \n",
      " conv2d_12 (Conv2D)          (None, 91, 91, 64)        19264     \n",
      "                                                                 \n",
      " max_pooling2d_9 (MaxPooling  (None, 46, 46, 64)       0         \n",
      " 2D)                                                             \n",
      "                                                                 \n",
      " conv2d_13 (Conv2D)          (None, 40, 40, 128)       401536    \n",
      "                                                                 \n",
      " max_pooling2d_10 (MaxPoolin  (None, 20, 20, 128)      0         \n",
      " g2D)                                                            \n",
      "                                                                 \n",
      " conv2d_14 (Conv2D)          (None, 17, 17, 128)       262272    \n",
      "                                                                 \n",
      " max_pooling2d_11 (MaxPoolin  (None, 9, 9, 128)        0         \n",
      " g2D)                                                            \n",
      "                                                                 \n",
      " conv2d_15 (Conv2D)          (None, 6, 6, 256)         524544    \n",
      "                                                                 \n",
      " flatten_3 (Flatten)         (None, 9216)              0         \n",
      "                                                                 \n",
      " dense_5 (Dense)             (None, 4096)              37752832  \n",
      "                                                                 \n",
      "=================================================================\n",
      "Total params: 38,960,448\n",
      "Trainable params: 38,960,448\n",
      "Non-trainable params: 0\n",
      "_________________________________________________________________\n"
     ]
    }
   ],
   "source": [
    "embedding.summary()"
   ]
  },
  {
   "cell_type": "code",
   "execution_count": 219,
   "id": "355627cc",
   "metadata": {},
   "outputs": [],
   "source": [
    "# Siamese L1 Distance class\n",
    "class L1Dist(Layer):\n",
    "    \n",
    "    #Init method inheritance \n",
    "    def __init__(self, **kwargs):\n",
    "        super().__init__()\n",
    "        \n",
    "    # Magic happens here     \n",
    "    def call(self, input_embedding, validation_embedding):\n",
    "        return tf.math.abs(input_embedding - validation_embedding)"
   ]
  },
  {
   "cell_type": "code",
   "execution_count": 220,
   "id": "d9a004c2",
   "metadata": {},
   "outputs": [],
   "source": [
    "l1 = L1Dist()"
   ]
  },
  {
   "cell_type": "code",
   "execution_count": 221,
   "id": "bebfd371",
   "metadata": {},
   "outputs": [],
   "source": [
    "input_image = Input(name='input_img', shape=(100,100,3))\n",
    "validation_image = Input(name='validation_img', shape=(100,100,3))"
   ]
  },
  {
   "cell_type": "code",
   "execution_count": 180,
   "id": "c0bdc131",
   "metadata": {},
   "outputs": [],
   "source": [
    "inp_embedding = embedding(input_image)\n",
    "val_embedding = embedding(validation_image)\n"
   ]
  },
  {
   "cell_type": "code",
   "execution_count": 181,
   "id": "fb6da185",
   "metadata": {},
   "outputs": [],
   "source": [
    "siamese_layer = L1Dist()"
   ]
  },
  {
   "cell_type": "code",
   "execution_count": 182,
   "id": "99df2716",
   "metadata": {},
   "outputs": [],
   "source": [
    "distances = siamese_layer(inp_embedding, val_embedding)"
   ]
  },
  {
   "cell_type": "code",
   "execution_count": 183,
   "id": "c796478f",
   "metadata": {},
   "outputs": [],
   "source": [
    "classifier = Dense(1, activation='sigmoid')(distances)"
   ]
  },
  {
   "cell_type": "code",
   "execution_count": 184,
   "id": "2a70a745",
   "metadata": {},
   "outputs": [
    {
     "data": {
      "text/plain": [
       "<KerasTensor: shape=(None, 1) dtype=float32 (created by layer 'dense_6')>"
      ]
     },
     "execution_count": 184,
     "metadata": {},
     "output_type": "execute_result"
    }
   ],
   "source": [
    "classifier"
   ]
  },
  {
   "cell_type": "code",
   "execution_count": 185,
   "id": "4c2e2e3a",
   "metadata": {},
   "outputs": [],
   "source": [
    "siamese_network = Model(inputs=[input_image, validation_image], outputs=classifier, name='SiameseNetwork')"
   ]
  },
  {
   "cell_type": "code",
   "execution_count": 186,
   "id": "bb2e7fa8",
   "metadata": {},
   "outputs": [
    {
     "name": "stdout",
     "output_type": "stream",
     "text": [
      "Model: \"SiameseNetwork\"\n",
      "__________________________________________________________________________________________________\n",
      " Layer (type)                   Output Shape         Param #     Connected to                     \n",
      "==================================================================================================\n",
      " input_img (InputLayer)         [(None, 100, 100, 3  0           []                               \n",
      "                                )]                                                                \n",
      "                                                                                                  \n",
      " validation_img (InputLayer)    [(None, 100, 100, 3  0           []                               \n",
      "                                )]                                                                \n",
      "                                                                                                  \n",
      " embedding (Functional)         (None, 4096)         38960448    ['input_img[0][0]',              \n",
      "                                                                  'validation_img[0][0]']         \n",
      "                                                                                                  \n",
      " l1_dist_5 (L1Dist)             (None, 4096)         0           ['embedding[0][0]',              \n",
      "                                                                  'embedding[1][0]']              \n",
      "                                                                                                  \n",
      " dense_6 (Dense)                (None, 1)            4097        ['l1_dist_5[0][0]']              \n",
      "                                                                                                  \n",
      "==================================================================================================\n",
      "Total params: 38,964,545\n",
      "Trainable params: 38,964,545\n",
      "Non-trainable params: 0\n",
      "__________________________________________________________________________________________________\n"
     ]
    }
   ],
   "source": [
    "siamese_network.summary()\n"
   ]
  },
  {
   "cell_type": "code",
   "execution_count": 187,
   "id": "77441bd3",
   "metadata": {},
   "outputs": [
    {
     "data": {
      "text/plain": [
       "<KerasTensor: shape=(None, 4096) dtype=float32 (created by layer 'l1_dist_5')>"
      ]
     },
     "execution_count": 187,
     "metadata": {},
     "output_type": "execute_result"
    }
   ],
   "source": [
    "siamese_layer(inp_embedding, val_embedding)"
   ]
  },
  {
   "cell_type": "code",
   "execution_count": 188,
   "id": "15e7929a",
   "metadata": {},
   "outputs": [],
   "source": [
    "def make_siamese_model():\n",
    "    \n",
    "    # Anchor images input in the network\n",
    "    input_image = Input(name='input_img', shape=(100,100,3))\n",
    "    \n",
    "    #validation image in the network\n",
    "    validation_image = Input(name='validation_img', shape=(100,100,3))\n",
    "    \n",
    "    # Combine siamese distance components\n",
    "    siamese_layer = L1Dist()\n",
    "    siamese_layer._name = 'distance'\n",
    "    distances = siamese_layer(embedding(input_image), embedding(validation_image))\n",
    "    \n",
    "     # Classification layer \n",
    "    classifier = Dense(1, activation='sigmoid')(distances)\n",
    "    \n",
    "    return Model(inputs=[input_image, validation_image], outputs=classifier, name='SiameseNetwork')"
   ]
  },
  {
   "cell_type": "code",
   "execution_count": 189,
   "id": "861f55f5",
   "metadata": {},
   "outputs": [],
   "source": [
    "siamese_model = make_siamese_model()\n"
   ]
  },
  {
   "cell_type": "code",
   "execution_count": 190,
   "id": "707c353d",
   "metadata": {},
   "outputs": [
    {
     "name": "stdout",
     "output_type": "stream",
     "text": [
      "Model: \"SiameseNetwork\"\n",
      "__________________________________________________________________________________________________\n",
      " Layer (type)                   Output Shape         Param #     Connected to                     \n",
      "==================================================================================================\n",
      " input_img (InputLayer)         [(None, 100, 100, 3  0           []                               \n",
      "                                )]                                                                \n",
      "                                                                                                  \n",
      " validation_img (InputLayer)    [(None, 100, 100, 3  0           []                               \n",
      "                                )]                                                                \n",
      "                                                                                                  \n",
      " embedding (Functional)         (None, 4096)         38960448    ['input_img[0][0]',              \n",
      "                                                                  'validation_img[0][0]']         \n",
      "                                                                                                  \n",
      " distance (L1Dist)              (None, 4096)         0           ['embedding[2][0]',              \n",
      "                                                                  'embedding[3][0]']              \n",
      "                                                                                                  \n",
      " dense_7 (Dense)                (None, 1)            4097        ['distance[0][0]']               \n",
      "                                                                                                  \n",
      "==================================================================================================\n",
      "Total params: 38,964,545\n",
      "Trainable params: 38,964,545\n",
      "Non-trainable params: 0\n",
      "__________________________________________________________________________________________________\n"
     ]
    }
   ],
   "source": [
    "siamese_model.summary()"
   ]
  },
  {
   "cell_type": "code",
   "execution_count": 191,
   "id": "e24e5cae",
   "metadata": {},
   "outputs": [],
   "source": [
    "binary_cross_loss = tf.losses.BinaryCrossentropy()"
   ]
  },
  {
   "cell_type": "code",
   "execution_count": 192,
   "id": "212a53bb",
   "metadata": {},
   "outputs": [],
   "source": [
    "opt = tf.keras.optimizers.Adam(1e-4) # 0.0001"
   ]
  },
  {
   "cell_type": "code",
   "execution_count": 193,
   "id": "653b48b1",
   "metadata": {},
   "outputs": [],
   "source": [
    "checkpoint_dir = './training_checkpoints'\n",
    "checkpoint_prefix = os.path.join(checkpoint_dir, 'ckpt')\n",
    "checkpoint = tf.train.Checkpoint(opt=opt, siamese_model=siamese_model)"
   ]
  },
  {
   "cell_type": "code",
   "execution_count": 194,
   "id": "dc939dfc",
   "metadata": {},
   "outputs": [],
   "source": [
    "test_batch = train_data.as_numpy_iterator()"
   ]
  },
  {
   "cell_type": "code",
   "execution_count": 195,
   "id": "0026e38b",
   "metadata": {},
   "outputs": [],
   "source": [
    "batch_1 = test_batch.next()"
   ]
  },
  {
   "cell_type": "code",
   "execution_count": 196,
   "id": "f580d37f",
   "metadata": {},
   "outputs": [],
   "source": [
    "X = batch_1[:2]\n"
   ]
  },
  {
   "cell_type": "code",
   "execution_count": 197,
   "id": "68ebd819",
   "metadata": {},
   "outputs": [],
   "source": [
    "y = batch_1[2]\n"
   ]
  },
  {
   "cell_type": "code",
   "execution_count": 198,
   "id": "805d1dc4",
   "metadata": {},
   "outputs": [
    {
     "data": {
      "text/plain": [
       "array([0., 0., 0., 0., 1., 1., 0., 1., 0., 0., 1., 0., 0., 0., 1., 1.],\n",
       "      dtype=float32)"
      ]
     },
     "execution_count": 198,
     "metadata": {},
     "output_type": "execute_result"
    }
   ],
   "source": [
    "y"
   ]
  },
  {
   "cell_type": "code",
   "execution_count": 199,
   "id": "5cd1bc31",
   "metadata": {},
   "outputs": [],
   "source": [
    "tf.losses.BinaryCrossentropy??\n"
   ]
  },
  {
   "cell_type": "code",
   "execution_count": 200,
   "id": "fa03cc3d",
   "metadata": {},
   "outputs": [],
   "source": [
    "@tf.function\n",
    "def train_step(batch):\n",
    "    \n",
    "    # Record all of our operations \n",
    "    with tf.GradientTape() as tape:     \n",
    "        # Get anchor and positive/negative image\n",
    "        X = batch[:2]\n",
    "        # Get label\n",
    "        y = batch[2]\n",
    "        \n",
    "        # Forward pass\n",
    "        yhat = siamese_model(X, training=True)\n",
    "        # Calculate loss\n",
    "        loss = binary_cross_loss(y, yhat)\n",
    "    print(loss)\n",
    "        \n",
    "    # Calculate gradients\n",
    "    grad = tape.gradient(loss, siamese_model.trainable_variables)\n",
    "    \n",
    "    # Calculate updated weights and apply to siamese model\n",
    "    opt.apply_gradients(zip(grad, siamese_model.trainable_variables))\n",
    "        \n",
    "    # Return loss\n",
    "    return loss\n"
   ]
  },
  {
   "cell_type": "code",
   "execution_count": 201,
   "id": "244beb8e",
   "metadata": {},
   "outputs": [],
   "source": [
    "# Import metric calculations\n",
    "from tensorflow.keras.metrics import Precision, Recall"
   ]
  },
  {
   "cell_type": "code",
   "execution_count": 107,
   "id": "4d1b9ebb",
   "metadata": {},
   "outputs": [],
   "source": [
    "def train(data, EPOCHS):\n",
    "    # Loop through epochs\n",
    "    for epoch in range(1, EPOCHS+1):\n",
    "        print('\\n Epoch {}/{}'.format(epoch, EPOCHS))\n",
    "        progbar = tf.keras.utils.Progbar(len(data))\n",
    "        \n",
    "        # Creating a metric object \n",
    "        r = Recall()\n",
    "        p = Precision()\n",
    "        \n",
    "        # Loop through each batch\n",
    "        for idx, batch in enumerate(data):\n",
    "            # Run train step here\n",
    "            loss = train_step(batch)\n",
    "            yhat = siamese_model.predict(batch[:2])\n",
    "            r.update_state(batch[2], yhat)\n",
    "            p.update_state(batch[2], yhat) \n",
    "            progbar.update(idx+1)\n",
    "        print(loss.numpy(), r.result().numpy(), p.result().numpy())\n",
    "        \n",
    "        # Save checkpoints\n",
    "        if epoch % 10 == 0: \n",
    "            checkpoint.save(file_prefix=checkpoint_prefix)"
   ]
  },
  {
   "cell_type": "code",
   "execution_count": 108,
   "id": "daa3e6c1",
   "metadata": {},
   "outputs": [],
   "source": [
    "EPOCHS = 50"
   ]
  },
  {
   "cell_type": "code",
   "execution_count": 209,
   "id": "635a78d7",
   "metadata": {
    "scrolled": false
   },
   "outputs": [
    {
     "name": "stdout",
     "output_type": "stream",
     "text": [
      "\n",
      " Epoch 1/50\n",
      "Tensor(\"binary_crossentropy/weighted_loss/value:0\", shape=(), dtype=float32)\n",
      "Tensor(\"binary_crossentropy/weighted_loss/value:0\", shape=(), dtype=float32)\n",
      "26/27 [===========================>..] - ETA: 22sTensor(\"binary_crossentropy/weighted_loss/value:0\", shape=(), dtype=float32)\n",
      "27/27 [==============================] - 583s 22s/step\n",
      "0.6798769 0.63461536 0.9230769\n",
      "\n",
      " Epoch 2/50\n",
      "27/27 [==============================] - 575s 21s/step\n",
      "0.081129946 0.90384614 0.96410257\n",
      "\n",
      " Epoch 3/50\n",
      "27/27 [==============================] - 578s 21s/step\n",
      "0.025418121 0.97129184 0.98067635\n",
      "\n",
      " Epoch 4/50\n",
      "27/27 [==============================] - 579s 21s/step\n",
      "0.26832443 0.9906977 0.9953271\n",
      "\n",
      " Epoch 5/50\n",
      "27/27 [==============================] - 570s 21s/step\n",
      "0.00860762 0.9822222 0.9954955\n",
      "\n",
      " Epoch 6/50\n",
      "27/27 [==============================] - 567s 21s/step\n",
      "0.01361046 0.99122804 0.99559474\n",
      "\n",
      " Epoch 7/50\n",
      "27/27 [==============================] - 571s 21s/step\n",
      "0.014141951 1.0 1.0\n",
      "\n",
      " Epoch 8/50\n",
      "27/27 [==============================] - 573s 21s/step\n",
      "0.00067909627 1.0 1.0\n",
      "\n",
      " Epoch 9/50\n",
      "27/27 [==============================] - 571s 21s/step\n",
      "0.0008975739 1.0 1.0\n",
      "\n",
      " Epoch 10/50\n",
      "27/27 [==============================] - 569s 21s/step\n",
      "5.551274e-05 1.0 1.0\n",
      "\n",
      " Epoch 11/50\n",
      "27/27 [==============================] - 575s 21s/step\n",
      "0.001843312 1.0 1.0\n",
      "\n",
      " Epoch 12/50\n",
      "27/27 [==============================] - 571s 21s/step\n",
      "1.2949215e-05 1.0 1.0\n",
      "\n",
      " Epoch 13/50\n",
      "27/27 [==============================] - 571s 21s/step\n",
      "0.0015412017 1.0 1.0\n",
      "\n",
      " Epoch 14/50\n",
      "27/27 [==============================] - 577s 21s/step\n",
      "0.0011564944 1.0 1.0\n",
      "\n",
      " Epoch 15/50\n",
      "27/27 [==============================] - 576s 21s/step\n",
      "3.5166822e-06 1.0 1.0\n",
      "\n",
      " Epoch 16/50\n",
      "27/27 [==============================] - 589s 22s/step\n",
      "0.0003127992 1.0 1.0\n",
      "\n",
      " Epoch 17/50\n",
      "27/27 [==============================] - 595s 22s/step\n",
      "0.00020584882 1.0 1.0\n",
      "\n",
      " Epoch 18/50\n",
      "27/27 [==============================] - 581s 21s/step\n",
      "0.000101014826 1.0 1.0\n",
      "\n",
      " Epoch 19/50\n",
      "27/27 [==============================] - 576s 21s/step\n",
      "1.6898384e-05 1.0 1.0\n",
      "\n",
      " Epoch 20/50\n",
      "27/27 [==============================] - 573s 21s/step\n",
      "0.0026964971 1.0 1.0\n",
      "\n",
      " Epoch 21/50\n",
      "27/27 [==============================] - 565s 21s/step\n",
      "0.0002198198 1.0 1.0\n",
      "\n",
      " Epoch 22/50\n",
      "27/27 [==============================] - 562s 21s/step\n",
      "0.00062969903 1.0 1.0\n",
      "\n",
      " Epoch 23/50\n",
      "27/27 [==============================] - 566s 21s/step\n",
      "3.595822e-05 1.0 1.0\n",
      "\n",
      " Epoch 24/50\n",
      "27/27 [==============================] - 565s 21s/step\n",
      "6.1094795e-07 1.0 1.0\n",
      "\n",
      " Epoch 25/50\n",
      "27/27 [==============================] - 568s 21s/step\n",
      "0.00014119569 1.0 1.0\n",
      "\n",
      " Epoch 26/50\n",
      "27/27 [==============================] - 566s 21s/step\n",
      "3.293167e-06 1.0 1.0\n",
      "\n",
      " Epoch 27/50\n",
      "27/27 [==============================] - 565s 21s/step\n",
      "1.1324895e-06 1.0 1.0\n",
      "\n",
      " Epoch 28/50\n",
      "27/27 [==============================] - 564s 21s/step\n",
      "7.7486106e-07 1.0 1.0\n",
      "\n",
      " Epoch 29/50\n",
      "27/27 [==============================] - 564s 21s/step\n",
      "3.326157e-05 1.0 1.0\n",
      "\n",
      " Epoch 30/50\n",
      "27/27 [==============================] - 566s 21s/step\n",
      "3.2037597e-06 1.0 1.0\n",
      "\n",
      " Epoch 31/50\n",
      "27/27 [==============================] - 566s 21s/step\n",
      "0.00039449116 1.0 1.0\n",
      "\n",
      " Epoch 32/50\n",
      "27/27 [==============================] - 567s 21s/step\n",
      "1.7881877e-05 1.0 1.0\n",
      "\n",
      " Epoch 33/50\n",
      "27/27 [==============================] - 567s 21s/step\n",
      "4.529976e-06 1.0 1.0\n",
      "\n",
      " Epoch 34/50\n",
      "27/27 [==============================] - 569s 21s/step\n",
      "0.00027111114 1.0 1.0\n",
      "\n",
      " Epoch 35/50\n",
      "27/27 [==============================] - 566s 21s/step\n",
      "0.00013911088 1.0 1.0\n",
      "\n",
      " Epoch 36/50\n",
      "27/27 [==============================] - 571s 21s/step\n",
      "9.924308e-06 1.0 1.0\n",
      "\n",
      " Epoch 37/50\n",
      "27/27 [==============================] - 610s 23s/step\n",
      "3.794117e-05 1.0 1.0\n",
      "\n",
      " Epoch 38/50\n",
      "27/27 [==============================] - 579s 21s/step\n",
      "1.5110133e-05 1.0 1.0\n",
      "\n",
      " Epoch 39/50\n",
      "27/27 [==============================] - 574s 21s/step\n",
      "0.00039023443 1.0 1.0\n",
      "\n",
      " Epoch 40/50\n",
      "27/27 [==============================] - 618s 23s/step\n",
      "8.091435e-06 1.0 1.0\n",
      "\n",
      " Epoch 41/50\n",
      "27/27 [==============================] - 575s 21s/step\n",
      "1.5273989e-05 1.0 1.0\n",
      "\n",
      " Epoch 42/50\n",
      "27/27 [==============================] - 574s 21s/step\n",
      "6.526774e-06 1.0 1.0\n",
      "\n",
      " Epoch 43/50\n",
      "27/27 [==============================] - 575s 21s/step\n",
      "8.2106535e-06 1.0 1.0\n",
      "\n",
      " Epoch 44/50\n",
      "27/27 [==============================] - 575s 21s/step\n",
      "1.1324908e-06 1.0 1.0\n",
      "\n",
      " Epoch 45/50\n",
      "27/27 [==============================] - 580s 21s/step\n",
      "1.5646261e-06 1.0 1.0\n",
      "\n",
      " Epoch 46/50\n",
      "27/27 [==============================] - 577s 21s/step\n",
      "2.0057521e-05 1.0 1.0\n",
      "\n",
      " Epoch 47/50\n",
      "27/27 [==============================] - 566s 21s/step\n",
      "7.6443985e-06 1.0 1.0\n",
      "\n",
      " Epoch 48/50\n",
      "27/27 [==============================] - 564s 21s/step\n",
      "1.3128255e-05 1.0 1.0\n",
      "\n",
      " Epoch 49/50\n",
      "27/27 [==============================] - 570s 21s/step\n",
      "2.8820506e-05 1.0 1.0\n",
      "\n",
      " Epoch 50/50\n",
      "27/27 [==============================] - 567s 21s/step\n",
      "7.08038e-05 1.0 1.0\n"
     ]
    }
   ],
   "source": [
    "train(train_data, EPOCHS)"
   ]
  },
  {
   "cell_type": "code",
   "execution_count": 210,
   "id": "ba6c1afd",
   "metadata": {},
   "outputs": [],
   "source": [
    "# Import metric calculations\n",
    "from tensorflow.keras.metrics import Precision, Recall"
   ]
  },
  {
   "cell_type": "code",
   "execution_count": 211,
   "id": "0de0f460",
   "metadata": {},
   "outputs": [],
   "source": [
    "# Get a batch of test data\n",
    "test_input, test_val, y_true = test_data.as_numpy_iterator().next()"
   ]
  },
  {
   "cell_type": "code",
   "execution_count": 212,
   "id": "979721c5",
   "metadata": {},
   "outputs": [],
   "source": [
    "y_hat = siamese_model.predict([test_input, test_val])"
   ]
  },
  {
   "cell_type": "code",
   "execution_count": 213,
   "id": "8c146faa",
   "metadata": {},
   "outputs": [
    {
     "data": {
      "text/plain": [
       "array([[1.7063016e-08],\n",
       "       [1.0000000e+00],\n",
       "       [9.9999386e-01],\n",
       "       [3.7357587e-08],\n",
       "       [9.9999899e-01],\n",
       "       [9.9999738e-01],\n",
       "       [7.4983069e-07],\n",
       "       [1.0000000e+00],\n",
       "       [9.9999762e-01],\n",
       "       [3.0328013e-09],\n",
       "       [2.5958162e-08],\n",
       "       [9.9999726e-01],\n",
       "       [1.9117628e-07],\n",
       "       [1.0000000e+00],\n",
       "       [4.9997868e-09],\n",
       "       [2.2538331e-06]], dtype=float32)"
      ]
     },
     "execution_count": 213,
     "metadata": {},
     "output_type": "execute_result"
    }
   ],
   "source": [
    "y_hat"
   ]
  },
  {
   "cell_type": "code",
   "execution_count": 214,
   "id": "c6f4968a",
   "metadata": {},
   "outputs": [
    {
     "data": {
      "text/plain": [
       "[0, 1, 1, 0, 1, 1, 0, 1, 1, 0, 0, 1, 0, 1, 0, 0]"
      ]
     },
     "execution_count": 214,
     "metadata": {},
     "output_type": "execute_result"
    }
   ],
   "source": [
    " # Post processing the results \n",
    "[1 if prediction > 0.5 else 0 for prediction in y_hat ]"
   ]
  },
  {
   "cell_type": "code",
   "execution_count": 215,
   "id": "6a26d296",
   "metadata": {},
   "outputs": [
    {
     "data": {
      "text/plain": [
       "array([0., 1., 1., 0., 1., 1., 0., 1., 1., 0., 0., 1., 0., 1., 0., 0.],\n",
       "      dtype=float32)"
      ]
     },
     "execution_count": 215,
     "metadata": {},
     "output_type": "execute_result"
    }
   ],
   "source": [
    "y_true\n"
   ]
  },
  {
   "cell_type": "code",
   "execution_count": 216,
   "id": "27589871",
   "metadata": {},
   "outputs": [
    {
     "data": {
      "text/plain": [
       "1.0"
      ]
     },
     "execution_count": 216,
     "metadata": {},
     "output_type": "execute_result"
    }
   ],
   "source": [
    "# Creating a metric object \n",
    "m = Recall()\n",
    "\n",
    "# Calculating the recall value \n",
    "m.update_state(y_true, y_hat)\n",
    "\n",
    "# Return Recall Result\n",
    "m.result().numpy()"
   ]
  },
  {
   "cell_type": "code",
   "execution_count": 217,
   "id": "e800392d",
   "metadata": {},
   "outputs": [
    {
     "data": {
      "text/plain": [
       "1.0"
      ]
     },
     "execution_count": 217,
     "metadata": {},
     "output_type": "execute_result"
    }
   ],
   "source": [
    "# Creating a metric object \n",
    "m = Precision()\n",
    "\n",
    "# Calculating the recall value \n",
    "m.update_state(y_true, y_hat)\n",
    "\n",
    "# Return Recall Result\n",
    "m.result().numpy()\n"
   ]
  },
  {
   "cell_type": "code",
   "execution_count": 218,
   "id": "3d298bb3",
   "metadata": {},
   "outputs": [
    {
     "data": {
      "image/png": "[encoded data removed]",
      "text/plain": [
       "<Figure size 1000x800 with 2 Axes>"
      ]
     },
     "metadata": {},
     "output_type": "display_data"
    }
   ],
   "source": [
    "# Set plot size \n",
    "plt.figure(figsize=(10,8))\n",
    "\n",
    "# Set first subplot\n",
    "plt.subplot(1,2,1)\n",
    "plt.imshow(test_input[0])\n",
    "\n",
    "# Set second subplot\n",
    "plt.subplot(1,2,2)\n",
    "plt.imshow(test_val[0])\n",
    "\n",
    "# Renders cleanly\n",
    "plt.show()"
   ]
  },
  {
   "cell_type": "code",
   "execution_count": 219,
   "id": "eb1de444",
   "metadata": {},
   "outputs": [
    {
     "name": "stdout",
     "output_type": "stream",
     "text": [
      "WARNING:tensorflow:Compiled the loaded model, but the compiled metrics have yet to be built. `model.compile_metrics` will be empty until you train or evaluate the model.\n"
     ]
    }
   ],
   "source": [
    "# Save weights\n",
    "siamese_model.save('siamesemodelv2.h5')\n"
   ]
  },
  {
   "cell_type": "code",
   "execution_count": 220,
   "id": "f4a84333",
   "metadata": {},
   "outputs": [
    {
     "data": {
      "text/plain": [
       "__main__.L1Dist"
      ]
     },
     "execution_count": 220,
     "metadata": {},
     "output_type": "execute_result"
    }
   ],
   "source": [
    "L1Dist"
   ]
  },
  {
   "cell_type": "code",
   "execution_count": 222,
   "id": "55263ed5",
   "metadata": {
    "scrolled": true
   },
   "outputs": [
    {
     "name": "stdout",
     "output_type": "stream",
     "text": [
      "WARNING:tensorflow:No training configuration found in the save file, so the model was *not* compiled. Compile it manually.\n"
     ]
    }
   ],
   "source": [
    "# Reload model \n",
    "model = tf.keras.models.load_model('siamesemodelv2.h5', \n",
    "                                   custom_objects={'L1Dist':L1Dist, 'BinaryCrossentropy':tf.losses.BinaryCrossentropy})"
   ]
  },
  {
   "cell_type": "code",
   "execution_count": 223,
   "id": "bbd38c9d",
   "metadata": {
    "scrolled": true
   },
   "outputs": [
    {
     "data": {
      "text/plain": [
       "array([[1.1806922e-05],\n",
       "       [6.0851661e-09],\n",
       "       [9.9999940e-01],\n",
       "       [5.3787109e-05],\n",
       "       [1.0000000e+00],\n",
       "       [1.2329787e-07],\n",
       "       [8.0882614e-08],\n",
       "       [2.8368000e-08],\n",
       "       [9.9999821e-01],\n",
       "       [9.9790180e-01],\n",
       "       [1.7423524e-07],\n",
       "       [9.9997914e-01],\n",
       "       [9.9996841e-01],\n",
       "       [3.4769320e-07],\n",
       "       [2.0959973e-04],\n",
       "       [9.9999976e-01]], dtype=float32)"
      ]
     },
     "execution_count": 223,
     "metadata": {},
     "output_type": "execute_result"
    }
   ],
   "source": [
    "# Make predictions with reloaded model\n",
    "model.predict([test_input, test_val])"
   ]
  },
  {
   "cell_type": "code",
   "execution_count": 223,
   "id": "af66fbdc",
   "metadata": {},
   "outputs": [
    {
     "name": "stdout",
     "output_type": "stream",
     "text": [
      "Model: \"SiameseNetwork\"\n",
      "__________________________________________________________________________________________________\n",
      " Layer (type)                   Output Shape         Param #     Connected to                     \n",
      "==================================================================================================\n",
      " input_img (InputLayer)         [(None, 100, 100, 3  0           []                               \n",
      "                                )]                                                                \n",
      "                                                                                                  \n",
      " validation_img (InputLayer)    [(None, 100, 100, 3  0           []                               \n",
      "                                )]                                                                \n",
      "                                                                                                  \n",
      " embedding (Functional)         (None, 4096)         38960448    ['input_img[0][0]',              \n",
      "                                                                  'validation_img[0][0]']         \n",
      "                                                                                                  \n",
      " l1_dist_7 (L1Dist)             (None, 4096)         0           ['embedding[0][0]',              \n",
      "                                                                  'embedding[1][0]']              \n",
      "                                                                                                  \n",
      " dense_7 (Dense)                (None, 1)            4097        ['l1_dist_7[0][0]']              \n",
      "                                                                                                  \n",
      "==================================================================================================\n",
      "Total params: 38,964,545\n",
      "Trainable params: 38,964,545\n",
      "Non-trainable params: 0\n",
      "__________________________________________________________________________________________________\n"
     ]
    }
   ],
   "source": [
    "# View model summary\n",
    "model.summary()"
   ]
  },
  {
   "cell_type": "code",
   "execution_count": 224,
   "id": "b31767b6",
   "metadata": {},
   "outputs": [
    {
     "data": {
      "text/plain": [
       "['0c5a2c61-89e5-11ed-9c60-9078416df5c8.jpg',\n",
       " '0c9951a8-89e5-11ed-9e2e-9078416df5c8.jpg',\n",
       " '0cab41d0-89e5-11ed-9ce8-9078416df5c8.jpg',\n",
       " '0cb77b41-89e5-11ed-a712-9078416df5c8.jpg',\n",
       " '0dfae1bd-89e5-11ed-b032-9078416df5c8.jpg',\n",
       " '0e3595b0-89e5-11ed-ab51-9078416df5c8.jpg',\n",
       " '0ea20894-89e5-11ed-9243-9078416df5c8.jpg',\n",
       " '0f3d8f4c-89e5-11ed-bd21-9078416df5c8.jpg',\n",
       " '0fc0ce3b-89e5-11ed-bb7d-9078416df5c8.jpg',\n",
       " '0fd1f96f-89e5-11ed-8d9a-9078416df5c8.jpg',\n",
       " '0fd865ad-89e5-11ed-bed4-9078416df5c8.jpg',\n",
       " '0fdfbd13-89e5-11ed-899a-9078416df5c8.jpg',\n",
       " '0fe6cd19-89e5-11ed-a54c-9078416df5c8.jpg',\n",
       " '0febef18-89e5-11ed-88b3-9078416df5c8.jpg',\n",
       " '104eee75-89e5-11ed-812b-9078416df5c8.jpg',\n",
       " '106cd1d0-89e5-11ed-93fa-9078416df5c8.jpg',\n",
       " '108c752d-89e5-11ed-9054-9078416df5c8.jpg',\n",
       " '10a6632b-89e5-11ed-8ede-9078416df5c8.jpg',\n",
       " '158cabea-89e5-11ed-8904-9078416df5c8.jpg',\n",
       " '15e7604c-89e5-11ed-8fd8-9078416df5c8.jpg',\n",
       " '15f81383-89e5-11ed-8069-9078416df5c8.jpg',\n",
       " '16a3331e-89e5-11ed-be32-9078416df5c8.jpg',\n",
       " '16e858e5-89e5-11ed-9b13-9078416df5c8.jpg',\n",
       " '17a5a49d-89e5-11ed-b54f-9078416df5c8.jpg',\n",
       " '17b1c88f-89e5-11ed-b8fa-9078416df5c8.jpg',\n",
       " '17c1296a-89e5-11ed-a3ed-9078416df5c8.jpg',\n",
       " '17da0b75-89e5-11ed-a207-9078416df5c8.jpg',\n",
       " '17f06125-89e5-11ed-b41d-9078416df5c8.jpg',\n",
       " '17fe076e-89e5-11ed-9071-9078416df5c8.jpg',\n",
       " '18d5a33b-89e5-11ed-9c2d-9078416df5c8.jpg',\n",
       " '18dce3ec-89e5-11ed-897c-9078416df5c8.jpg',\n",
       " '18e9311f-89e5-11ed-a9b2-9078416df5c8.jpg',\n",
       " '1a28994c-89e5-11ed-b648-9078416df5c8.jpg',\n",
       " '1a31f3f4-89e5-11ed-9cbb-9078416df5c8.jpg',\n",
       " '1a48a5b4-89e5-11ed-bb1a-9078416df5c8.jpg',\n",
       " '1a5b3071-89e5-11ed-8efb-9078416df5c8.jpg',\n",
       " '1b35bbe4-89e5-11ed-bcd3-9078416df5c8.jpg',\n",
       " '1b3a07f5-89e5-11ed-a73e-9078416df5c8.jpg',\n",
       " '1bd24ad8-89e5-11ed-afcb-9078416df5c8.jpg',\n",
       " '1c148a30-89e5-11ed-82af-9078416df5c8.jpg',\n",
       " '1c617b9e-89e5-11ed-9d8b-9078416df5c8.jpg',\n",
       " '1c6b3f4d-89e5-11ed-92c5-9078416df5c8.jpg',\n",
       " '1c78f988-89e5-11ed-b241-9078416df5c8.jpg',\n",
       " '1c9954a7-89e5-11ed-bc87-9078416df5c8.jpg',\n",
       " '1ca25590-89e5-11ed-b277-9078416df5c8.jpg',\n",
       " '1cafd131-89e5-11ed-9b73-9078416df5c8.jpg',\n",
       " '1d480265-89e5-11ed-a092-9078416df5c8.jpg',\n",
       " '1d4f8ded-89e5-11ed-a97c-9078416df5c8.jpg',\n",
       " '1d596ae2-89e5-11ed-9dc1-9078416df5c8.jpg',\n",
       " '1d61846e-89e5-11ed-b6ae-9078416df5c8.jpg']"
      ]
     },
     "execution_count": 224,
     "metadata": {},
     "output_type": "execute_result"
    }
   ],
   "source": [
    "os.listdir(os.path.join('application_data', 'verification_images'))"
   ]
  },
  {
   "cell_type": "code",
   "execution_count": 225,
   "id": "692fa491",
   "metadata": {},
   "outputs": [
    {
     "data": {
      "text/plain": [
       "'application_data\\\\input_image\\\\input_image.jpg'"
      ]
     },
     "execution_count": 225,
     "metadata": {},
     "output_type": "execute_result"
    }
   ],
   "source": [
    "os.path.join('application_data', 'input_image', 'input_image.jpg')"
   ]
  },
  {
   "cell_type": "code",
   "execution_count": 226,
   "id": "551de52c",
   "metadata": {
    "scrolled": true
   },
   "outputs": [
    {
     "name": "stdout",
     "output_type": "stream",
     "text": [
      "application_data\\verification_images\\0c5a2c61-89e5-11ed-9c60-9078416df5c8.jpg\n",
      "application_data\\verification_images\\0c9951a8-89e5-11ed-9e2e-9078416df5c8.jpg\n",
      "application_data\\verification_images\\0cab41d0-89e5-11ed-9ce8-9078416df5c8.jpg\n",
      "application_data\\verification_images\\0cb77b41-89e5-11ed-a712-9078416df5c8.jpg\n",
      "application_data\\verification_images\\0dfae1bd-89e5-11ed-b032-9078416df5c8.jpg\n",
      "application_data\\verification_images\\0e3595b0-89e5-11ed-ab51-9078416df5c8.jpg\n",
      "application_data\\verification_images\\0ea20894-89e5-11ed-9243-9078416df5c8.jpg\n",
      "application_data\\verification_images\\0f3d8f4c-89e5-11ed-bd21-9078416df5c8.jpg\n",
      "application_data\\verification_images\\0fc0ce3b-89e5-11ed-bb7d-9078416df5c8.jpg\n",
      "application_data\\verification_images\\0fd1f96f-89e5-11ed-8d9a-9078416df5c8.jpg\n",
      "application_data\\verification_images\\0fd865ad-89e5-11ed-bed4-9078416df5c8.jpg\n",
      "application_data\\verification_images\\0fdfbd13-89e5-11ed-899a-9078416df5c8.jpg\n",
      "application_data\\verification_images\\0fe6cd19-89e5-11ed-a54c-9078416df5c8.jpg\n",
      "application_data\\verification_images\\0febef18-89e5-11ed-88b3-9078416df5c8.jpg\n",
      "application_data\\verification_images\\104eee75-89e5-11ed-812b-9078416df5c8.jpg\n",
      "application_data\\verification_images\\106cd1d0-89e5-11ed-93fa-9078416df5c8.jpg\n",
      "application_data\\verification_images\\108c752d-89e5-11ed-9054-9078416df5c8.jpg\n",
      "application_data\\verification_images\\10a6632b-89e5-11ed-8ede-9078416df5c8.jpg\n",
      "application_data\\verification_images\\158cabea-89e5-11ed-8904-9078416df5c8.jpg\n",
      "application_data\\verification_images\\15e7604c-89e5-11ed-8fd8-9078416df5c8.jpg\n",
      "application_data\\verification_images\\15f81383-89e5-11ed-8069-9078416df5c8.jpg\n",
      "application_data\\verification_images\\16a3331e-89e5-11ed-be32-9078416df5c8.jpg\n",
      "application_data\\verification_images\\16e858e5-89e5-11ed-9b13-9078416df5c8.jpg\n",
      "application_data\\verification_images\\17a5a49d-89e5-11ed-b54f-9078416df5c8.jpg\n",
      "application_data\\verification_images\\17b1c88f-89e5-11ed-b8fa-9078416df5c8.jpg\n",
      "application_data\\verification_images\\17c1296a-89e5-11ed-a3ed-9078416df5c8.jpg\n",
      "application_data\\verification_images\\17da0b75-89e5-11ed-a207-9078416df5c8.jpg\n",
      "application_data\\verification_images\\17f06125-89e5-11ed-b41d-9078416df5c8.jpg\n",
      "application_data\\verification_images\\17fe076e-89e5-11ed-9071-9078416df5c8.jpg\n",
      "application_data\\verification_images\\18d5a33b-89e5-11ed-9c2d-9078416df5c8.jpg\n",
      "application_data\\verification_images\\18dce3ec-89e5-11ed-897c-9078416df5c8.jpg\n",
      "application_data\\verification_images\\18e9311f-89e5-11ed-a9b2-9078416df5c8.jpg\n",
      "application_data\\verification_images\\1a28994c-89e5-11ed-b648-9078416df5c8.jpg\n",
      "application_data\\verification_images\\1a31f3f4-89e5-11ed-9cbb-9078416df5c8.jpg\n",
      "application_data\\verification_images\\1a48a5b4-89e5-11ed-bb1a-9078416df5c8.jpg\n",
      "application_data\\verification_images\\1a5b3071-89e5-11ed-8efb-9078416df5c8.jpg\n",
      "application_data\\verification_images\\1b35bbe4-89e5-11ed-bcd3-9078416df5c8.jpg\n",
      "application_data\\verification_images\\1b3a07f5-89e5-11ed-a73e-9078416df5c8.jpg\n",
      "application_data\\verification_images\\1bd24ad8-89e5-11ed-afcb-9078416df5c8.jpg\n",
      "application_data\\verification_images\\1c148a30-89e5-11ed-82af-9078416df5c8.jpg\n",
      "application_data\\verification_images\\1c617b9e-89e5-11ed-9d8b-9078416df5c8.jpg\n",
      "application_data\\verification_images\\1c6b3f4d-89e5-11ed-92c5-9078416df5c8.jpg\n",
      "application_data\\verification_images\\1c78f988-89e5-11ed-b241-9078416df5c8.jpg\n",
      "application_data\\verification_images\\1c9954a7-89e5-11ed-bc87-9078416df5c8.jpg\n",
      "application_data\\verification_images\\1ca25590-89e5-11ed-b277-9078416df5c8.jpg\n",
      "application_data\\verification_images\\1cafd131-89e5-11ed-9b73-9078416df5c8.jpg\n",
      "application_data\\verification_images\\1d480265-89e5-11ed-a092-9078416df5c8.jpg\n",
      "application_data\\verification_images\\1d4f8ded-89e5-11ed-a97c-9078416df5c8.jpg\n",
      "application_data\\verification_images\\1d596ae2-89e5-11ed-9dc1-9078416df5c8.jpg\n",
      "application_data\\verification_images\\1d61846e-89e5-11ed-b6ae-9078416df5c8.jpg\n"
     ]
    }
   ],
   "source": [
    "for image in os.listdir(os.path.join('application_data', 'verification_images')):\n",
    "    validation_img = os.path.join('application_data', 'verification_images', image)\n",
    "    print(validation_img)"
   ]
  },
  {
   "cell_type": "code",
   "execution_count": 227,
   "id": "57c19ccc",
   "metadata": {},
   "outputs": [],
   "source": [
    "def verify(model, detection_threshold, verification_threshold):\n",
    "    # Build results array\n",
    "    results = []\n",
    "    for image in os.listdir(os.path.join('application_data', 'verification_images')):\n",
    "        input_img = preprocess(os.path.join('application_data', 'input_image', 'input_image.jpg'))\n",
    "        validation_img = preprocess(os.path.join('application_data', 'verification_images', image))\n",
    "        \n",
    "        # Make Predictions \n",
    "        result = model.predict(list(np.expand_dims([input_img, validation_img], axis=1)))\n",
    "        results.append(result)\n",
    "    \n",
    "    # Detection Threshold: Metric above which a prediciton is considered positive \n",
    "    detection = np.sum(np.array(results) > detection_threshold)\n",
    "    \n",
    "    # Verification Threshold: Proportion of positive predictions / total positive samples \n",
    "    verification = detection / len(os.listdir(os.path.join('application_data', 'verification_images'))) \n",
    "    verified = verification > verification_threshold\n",
    "    \n",
    "    return results, verified"
   ]
  },
  {
   "cell_type": "code",
   "execution_count": 228,
   "id": "68cfb3a1",
   "metadata": {},
   "outputs": [
    {
     "name": "stdout",
     "output_type": "stream",
     "text": [
      "True\n",
      "False\n"
     ]
    }
   ],
   "source": [
    "cap = cv2.VideoCapture(0)\n",
    "while cap.isOpened():\n",
    "    ret, frame = cap.read()\n",
    "    frame = frame[120:120+250,200:200+250, :]\n",
    "    \n",
    "    cv2.imshow('Verification', frame)\n",
    "    \n",
    "    # Verification trigger\n",
    "    if cv2.waitKey(10) & 0xFF == ord('v'):\n",
    "        # Save input image to application_data/input_image folder \n",
    "#         hsv = cv2.cvtColor(frame, cv2.COLOR_BGR2HSV)\n",
    "#         h, s, v = cv2.split(hsv)\n",
    "\n",
    "#         lim = 255 - 10\n",
    "#         v[v > lim] = 255\n",
    "#         v[v <= lim] -= 10\n",
    "        \n",
    "#         final_hsv = cv2.merge((h, s, v))\n",
    "#         img = cv2.cvtColor(final_hsv, cv2.COLOR_HSV2BGR)\n",
    "\n",
    "        cv2.imwrite(os.path.join('application_data', 'input_image', 'input_image.jpg'), frame)\n",
    "        # Run verification\n",
    "        results, verified = verify(model, 0.9, 0.9)\n",
    "        print(verified)\n",
    "    \n",
    "    if cv2.waitKey(10) & 0xFF == ord('q'):\n",
    "        break\n",
    "cap.release()\n",
    "cv2.destroyAllWindows()\n"
   ]
  },
  {
   "cell_type": "code",
   "execution_count": 229,
   "id": "bd09abda",
   "metadata": {},
   "outputs": [
    {
     "data": {
      "text/plain": [
       "array([False, False, False, False,  True,  True, False, False, False,\n",
       "        True,  True,  True,  True,  True, False, False, False, False,\n",
       "       False, False, False, False, False, False, False, False, False,\n",
       "       False, False, False, False, False, False, False, False, False,\n",
       "       False, False, False, False, False, False, False, False, False,\n",
       "       False, False, False, False, False])"
      ]
     },
     "execution_count": 229,
     "metadata": {},
     "output_type": "execute_result"
    }
   ],
   "source": [
    "np.squeeze(results) > 0.9"
   ]
  },
  {
   "cell_type": "code",
   "execution_count": null,
   "id": "1831b8b6",
   "metadata": {},
   "outputs": [],
   "source": []
  }
 ],
 "metadata": {
  "kernelspec": {
   "display_name": "Python 3 (ipykernel)",
   "language": "python",
   "name": "python3"
  },
  "language_info": {
   "codemirror_mode": {
    "name": "ipython",
    "version": 3
   },
   "file_extension": ".py",
   "mimetype": "text/x-python",
   "name": "python",
   "nbconvert_exporter": "python",
   "pygments_lexer": "ipython3",
   "version": "3.10.8"
  }
 },
 "nbformat": 4,
 "nbformat_minor": 5
}
